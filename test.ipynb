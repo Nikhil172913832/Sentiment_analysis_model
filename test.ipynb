{
 "cells": [
  {
   "cell_type": "code",
   "execution_count": 1,
   "metadata": {},
   "outputs": [
    {
     "name": "stderr",
     "output_type": "stream",
     "text": [
      "2024-03-21 20:45:17.940275: I tensorflow/core/platform/cpu_feature_guard.cc:210] This TensorFlow binary is optimized to use available CPU instructions in performance-critical operations.\n",
      "To enable the following instructions: AVX2 FMA, in other operations, rebuild TensorFlow with the appropriate compiler flags.\n",
      "2024-03-21 20:45:19.302203: W tensorflow/compiler/tf2tensorrt/utils/py_utils.cc:38] TF-TRT Warning: Could not find TensorRT\n"
     ]
    }
   ],
   "source": [
    "import tensorflow as tf\n",
    "from sklearn.model_selection import train_test_split"
   ]
  },
  {
   "cell_type": "markdown",
   "metadata": {},
   "source": []
  },
  {
   "cell_type": "code",
   "execution_count": 2,
   "metadata": {},
   "outputs": [],
   "source": [
    "def load_data(file):\n",
    "    data = []\n",
    "    with open(file, 'r') as f:\n",
    "        for line in f:\n",
    "            line = line.strip()\n",
    "            label = ' '.join(line[1:line.find(\"]\")].strip().split())\n",
    "            text = line[line.find(\"]\")+1:].strip()\n",
    "            data.append([label, text])\n",
    "    return data\n",
    "\n",
    "def convert_label(item, name): \n",
    "    items = list(map(float, item.split()))\n",
    "    label = \"\"\n",
    "    for idx in range(len(items)): \n",
    "        if items[idx] == 1: \n",
    "            label += name[idx] + \" \"\n",
    "    \n",
    "    return label.strip()\n",
    "\n",
    "emotions = [\"joy\", 'fear', \"anger\", \"sadness\", \"disgust\", \"shame\", \"guilt\"]\n",
    "\n",
    "y_all = []\n",
    "X_all = []\n",
    "\n",
    "file = 'text.txt'\n",
    "data = load_data(file)\n",
    "\n",
    "for label, text in data:\n",
    "    y_all.append(convert_label(label, emotions))\n",
    "    X_all.append(text)\n"
   ]
  },
  {
   "cell_type": "markdown",
   "metadata": {},
   "source": [
    "testing "
   ]
  },
  {
   "cell_type": "code",
   "execution_count": 3,
   "metadata": {},
   "outputs": [
    {
     "name": "stderr",
     "output_type": "stream",
     "text": [
      "2024-03-21 20:45:20.855942: I external/local_xla/xla/stream_executor/cuda/cuda_executor.cc:998] successful NUMA node read from SysFS had negative value (-1), but there must be at least one NUMA node, so returning NUMA node zero. See more at https://github.com/torvalds/linux/blob/v6.0/Documentation/ABI/testing/sysfs-bus-pci#L344-L355\n",
      "2024-03-21 20:45:21.363327: I external/local_xla/xla/stream_executor/cuda/cuda_executor.cc:998] successful NUMA node read from SysFS had negative value (-1), but there must be at least one NUMA node, so returning NUMA node zero. See more at https://github.com/torvalds/linux/blob/v6.0/Documentation/ABI/testing/sysfs-bus-pci#L344-L355\n",
      "2024-03-21 20:45:21.363578: I external/local_xla/xla/stream_executor/cuda/cuda_executor.cc:998] successful NUMA node read from SysFS had negative value (-1), but there must be at least one NUMA node, so returning NUMA node zero. See more at https://github.com/torvalds/linux/blob/v6.0/Documentation/ABI/testing/sysfs-bus-pci#L344-L355\n",
      "2024-03-21 20:45:21.365157: I external/local_xla/xla/stream_executor/cuda/cuda_executor.cc:998] successful NUMA node read from SysFS had negative value (-1), but there must be at least one NUMA node, so returning NUMA node zero. See more at https://github.com/torvalds/linux/blob/v6.0/Documentation/ABI/testing/sysfs-bus-pci#L344-L355\n",
      "2024-03-21 20:45:21.365562: I external/local_xla/xla/stream_executor/cuda/cuda_executor.cc:998] successful NUMA node read from SysFS had negative value (-1), but there must be at least one NUMA node, so returning NUMA node zero. See more at https://github.com/torvalds/linux/blob/v6.0/Documentation/ABI/testing/sysfs-bus-pci#L344-L355\n",
      "2024-03-21 20:45:21.365735: I external/local_xla/xla/stream_executor/cuda/cuda_executor.cc:998] successful NUMA node read from SysFS had negative value (-1), but there must be at least one NUMA node, so returning NUMA node zero. See more at https://github.com/torvalds/linux/blob/v6.0/Documentation/ABI/testing/sysfs-bus-pci#L344-L355\n",
      "2024-03-21 20:45:21.423726: I external/local_xla/xla/stream_executor/cuda/cuda_executor.cc:998] successful NUMA node read from SysFS had negative value (-1), but there must be at least one NUMA node, so returning NUMA node zero. See more at https://github.com/torvalds/linux/blob/v6.0/Documentation/ABI/testing/sysfs-bus-pci#L344-L355\n",
      "2024-03-21 20:45:21.423966: I external/local_xla/xla/stream_executor/cuda/cuda_executor.cc:998] successful NUMA node read from SysFS had negative value (-1), but there must be at least one NUMA node, so returning NUMA node zero. See more at https://github.com/torvalds/linux/blob/v6.0/Documentation/ABI/testing/sysfs-bus-pci#L344-L355\n",
      "2024-03-21 20:45:21.424154: I external/local_xla/xla/stream_executor/cuda/cuda_executor.cc:998] successful NUMA node read from SysFS had negative value (-1), but there must be at least one NUMA node, so returning NUMA node zero. See more at https://github.com/torvalds/linux/blob/v6.0/Documentation/ABI/testing/sysfs-bus-pci#L344-L355\n",
      "2024-03-21 20:45:21.425699: I tensorflow/core/common_runtime/gpu/gpu_device.cc:1928] Created device /job:localhost/replica:0/task:0/device:GPU:0 with 1113 MB memory:  -> device: 0, name: Quadro M620, pci bus id: 0000:01:00.0, compute capability: 5.0\n"
     ]
    }
   ],
   "source": [
    "AUTOTUNE = tf.data.AUTOTUNE\n",
    "batch_size = 32\n",
    "seed = 5\n",
    "X_train, X_temp, y_train, y_temp = train_test_split(X_all, y_all, test_size=0.2, random_state=42)\n",
    "X_val, X_test, y_val, y_test = train_test_split(X_temp, y_temp, test_size=0.5, random_state=42)\n",
    "X_train_tensor = tf.constant(X_train)\n",
    "y_train_tensor = tf.constant(y_train)\n",
    "X_val_tensor = tf.constant(X_val)\n",
    "y_val_tensor = tf.constant(y_val)\n",
    "X_test_tensor = tf.constant(X_test)\n",
    "y_test_tensor = tf.constant(y_test)"
   ]
  },
  {
   "cell_type": "markdown",
   "metadata": {},
   "source": []
  },
  {
   "cell_type": "code",
   "execution_count": 4,
   "metadata": {},
   "outputs": [],
   "source": [
    "train_dataset = tf.data.Dataset.from_tensor_slices((X_train_tensor, y_train_tensor)).shuffle(len(X_train), seed=seed, reshuffle_each_iteration= False).batch(batch_size).cache().prefetch(buffer_size=AUTOTUNE)\n",
    "val_dataset = tf.data.Dataset.from_tensor_slices((X_val_tensor, y_val_tensor)).shuffle(len(X_val), seed=seed, reshuffle_each_iteration= False).batch(batch_size).cache().prefetch(buffer_size=AUTOTUNE)\n",
    "test_dataset = tf.data.Dataset.from_tensor_slices((X_test_tensor, y_test_tensor)).shuffle(len(X_test), seed=seed, reshuffle_each_iteration= False).batch(batch_size).cache().prefetch(buffer_size=AUTOTUNE)"
   ]
  },
  {
   "cell_type": "markdown",
   "metadata": {},
   "source": []
  },
  {
   "cell_type": "code",
   "execution_count": 5,
   "metadata": {},
   "outputs": [
    {
     "name": "stdout",
     "output_type": "stream",
     "text": [
      "Text: [b'My mother unjustly became very angry with me and sent me to my room while my father explained that the way she saw things was not correct. I had done things with the best intentions.'\n",
      " b'When two female classmates and I were having lunch, we chatted and  cracked jokes, I was very happy.  However, I felt that I may have  said something inappropriate which might cause them to have a bad  impression of me.'\n",
      " b\"Once a friend had pushed me and I had fallen on to a window which then broke.  I was taken to tthe principal's office and he accused me of having broken the window.\"\n",
      " b'When I think now about the way my father behaved when filing a divorce.'\n",
      " b'When I entered a brothel and saw two sailors with a young prostitute who was not older than 18.'\n",
      " b'In our class we had a test on Nursing, so a friend from the Army was caught peeping, by using a paper which had already answers which was written by him. So all of us from the Army got ashamed.'\n",
      " b'My brother in law was dying of cancer. To see him wasting away was very sad.'\n",
      " b\"A situation where I stole a friends wife's wallet.\"\n",
      " b'When it appeared that I was not pregnant when I was several weeks overtime.'\n",
      " b'Getting a letter from a friend who did not write for a long time.'\n",
      " b'On the T.V I saw a news feature on South Africa.  A policeman      attacked a group of black people with a whip.'\n",
      " b\"When I don't fulfill my obligations.\"\n",
      " b'At school I was talking to a classmate about mathematics.  I had grown weary of it and said : \"\"I would like to throw the book on the arse of Kuikka\"\".  My classmate said : \"\"Now, he is sitting there and waiting for the book\"\" (Kuikka was one of the most quiet boys of the class).  I was ashamed of myself.'\n",
      " b'I felt very frightened when a robber broke into our house and threatened to shoot my father if he did not part with some money.  I was looking at the man with his hand on the trigger.'\n",
      " b'When I slipped on a glazed frost road and a car almost ran into me.'\n",
      " b'No specific instances - perhaps having lied as a child resulting in someone else being blamed for the event.'\n",
      " b\"I have always felt ashamed for some people's behavior to their too old parents. I have felt hurt and shy when they have left them to the mercy of fate.\"\n",
      " b'I most joyous moment was the day I got my marks.  I was very happy when I came to know about my marks at the M.Sc (part I) examination where I got 71.5%.  This was the highest marks I have ever scored in my life.'\n",
      " b'This feeling was quite deep when my friend (girl) died in a car accident.'\n",
      " b'When I made a mistake at work and when questioned about it pretended I had nothing to do with the problem.'\n",
      " b'When I broke the piggy bank of my brother and my mother discovered that.'\n",
      " b'A time when, as part of my work, I was sent out actually sort of volunteered to run an errand for someone who had no authority to send me out and the address was very far especially on foot and turned out to be incorrect too. The whole trip was a waste.'\n",
      " b'I was to prepare relish for the family. I overcooked it and no one liked the meal that day.'\n",
      " b'When I was in the army, a room mate of mine came back from furlough and threatened another fellow with a knife.'\n",
      " b'When I was to sit for my first entrance exam. I had fear of a possible failure.'\n",
      " b\"My mother always took my side. That brought about quarrels with my father. I knew she didn't like that and I felt very sorry for that.\"\n",
      " b\"When I was transferred from Chichiri Secondary School to St. Mary's Sec. School. I was happy at Chichiri as a day scholer and had made a lot of friends. I was going to a boarding and that meant parting with my friends as well as my boyfriend for the first time.\"\n",
      " b\"When I applied for the college entrance examination to FUVEST, and I wasn't approved in the second fase.\"\n",
      " b'Criticized in front of the class.'\n",
      " b'While dancing in a restaurant last week.'\n",
      " b'Generally when I am shopping I feel like I were guilty of all the thefts through the year (I have never stolen).'\n",
      " b'I was furious when the teacher pointed out in class that I was the quietest girl in class.']\n",
      "Label: [b'sadness' b'joy' b'anger' b'disgust' b'disgust' b'shame' b'sadness'\n",
      " b'guilt' b'joy' b'joy' b'anger' b'guilt' b'shame' b'fear' b'fear'\n",
      " b'shame' b'shame' b'joy' b'sadness' b'guilt' b'shame' b'anger' b'guilt'\n",
      " b'fear' b'fear' b'guilt' b'sadness' b'sadness' b'shame' b'joy' b'guilt'\n",
      " b'anger']\n",
      "\n",
      "Text: [b'When I was caught by the police and was kept with a group of delinquents, which added to my fear of being shut up.  I was afraid of the people near me and the future consequences.'\n",
      " b\"We were at a football match and when we were leaving the stadium (the stadium was packed with people) and I lost my shoe in the crowd. Our attempts to find it didn't give any result and I had to go home without one shoe. In other words to cross the whole town !\"\n",
      " b'When I was a teacher in an evening school, a girl raised a lot of questions and expressed her opinions.  She, very often, took a stand which was different from mine and she thought that it was better than mine.  Her opinions were helpful academically, but  she did not take into consideration my position in public.  Also she seemed to be very talkative and so she disgusted me.'\n",
      " b'I felt anger when I saw that I was being misleaded by my boyfriend, he went out with other girls. I felt anger for his falsity.'\n",
      " b'It was when we were beaten or lost the football match by 5-1 and then I scored the third goal to my own side.'\n",
      " b'When I stole something.'\n",
      " b\"I couldn't be with a girl on whom I was very keen.\"\n",
      " b'Some colleagues decided to go out on a Saturday not inviting me to decide either the place nor the time.'\n",
      " b'When I wore a grotesque figure hanging down my back.'\n",
      " b'When planning to marry.'\n",
      " b'A friend told me that he had suffered in love and in academics.  I shared his sadness.'\n",
      " b'Bus conductor insulted me for not buying a ticket (I forgot).'\n",
      " b'Walking at friday night through Nijmegen, going to a pub or a disco.'\n",
      " b'I was walking outside the union refec after rain when I tripped and fell.'\n",
      " b'When I was going to take the practical exams.'\n",
      " b'When my friend had a child out of wedlock.'\n",
      " b'I was forced to stay in the canteen and eat the food that I had not asked for but got it anyway.'\n",
      " b'We had a day off from school. Instead of helping my mother with her job, I stayed in bed all day.'\n",
      " b'When I failed one of the tests because I had not worked hard enough.'\n",
      " b'One night I had to bike home all alone after a party. Then I found out that I was pursued by a man in a car.'\n",
      " b\"I felt guilty when I was robbed of a friend's radio at Lilongwe bus depot after promising that I would keep it safe.\"\n",
      " b'I felt sad and depressed when I heard that our cat had died.'\n",
      " b'When I passed the last exam, which I had doudts about.'\n",
      " b'When I received my promotion letter.'\n",
      " b'I felt a sense of shame when I compromised a colleague of mine. I got an information from him which I quite out of place shared with another colleague of mine and it resulted in an unpleasant consequence for him.'\n",
      " b'One day in a clinic, the father of a child came in and assaulted a colleague for something that she had not done deliberately.'\n",
      " b'Getting very low marks in mathematics.'\n",
      " b'I was angry about several drivers who showed an aggressive and dangerous driving habit.'\n",
      " b\"Finding out I am chosen to collect norms for Chinese aphasia (I will contribute to China's catching up with the West in neuropsychology).\"\n",
      " b\"I had a discussion with my mother concerning my sister's divorce, we disagreed strongly.\"\n",
      " b'I was told to do something I did not want to do.'\n",
      " b\"I feared that I was pregnant.  It was not planned and I would have been compelled to have an abortion, which I would not have liked at all.  Fortunately, after a week's anxiety, I got to know that I was not pregnant.\"]\n",
      "Label: [b'fear' b'shame' b'disgust' b'anger' b'shame' b'guilt' b'sadness'\n",
      " b'sadness' b'shame' b'joy' b'sadness' b'anger' b'fear' b'shame' b'fear'\n",
      " b'shame' b'disgust' b'guilt' b'shame' b'fear' b'guilt' b'sadness' b'joy'\n",
      " b'joy' b'shame' b'anger' b'shame' b'anger' b'joy' b'anger' b'anger'\n",
      " b'fear']\n",
      "\n",
      "Text: [b'When I understood that my marriage was falling apart, and we decided to be legally separated.'\n",
      " b'After receiving the grade on the paper mentioned in FEAR.'\n",
      " b'When after a storm in the country, I left my shelter and saw a big, fat, slimy green toad by my side.'\n",
      " b\"I didn't do an important job and it had an adverse effect on other people.\"\n",
      " b'My superior at the summer job swindled customers as much as he could, and once put me in a difficult situation after which I could not but detest him.'\n",
      " b'When I was in grade one, one day I felt like going to the toilet during class but I was very scared of the teacher so I urinated in the class.'\n",
      " b\"After having at last finished my master's thesis, I felt great joy and relief.  I had been haunted by the thesis during the whole of my studies.\"\n",
      " b\"One of my best friends was found lying flat on the road because he was drunk and was taken by the police and put in a cell. I went to see him the following morning, the place was really a mess and was smelling badly. I didn't like it.\"\n",
      " b'First time in anatomy.'\n",
      " b'When I was selected to start Form I at Malosa Secondary school.'\n",
      " b'Students fear many things but we seem to fear the examinations most of all. I remember I was horror stricken before my microbiology exam, because it was a decisive one.'\n",
      " b'When I came to know that my father and his parents were : self interested, dirty, negative, egoist, bad peolpe,......'\n",
      " b'In a play (secret friend) during the time of the high school I had to give a present to a boy and I was very ridiculous because of this.'\n",
      " b'I broke my knee when I was skiing over \"\"Yastrebetz\"\" (a racing track in a Bulgarian winter resort).'\n",
      " b'China not winning more gold medals in the Asian Olympics.'\n",
      " b'During the PY 102 film session on Tuesday, one of the films shown  was of an experiment on a live cat involving strapping it into a machine for possibly days, and doing things to its brain.'\n",
      " b'The day I was told that I had been accepted as a student of economics.'\n",
      " b\"When I met with friends that I hadn't seen for a long time.\"\n",
      " b'On the way back from Denmark with a friend on a small yatch, there was a storm and my friend was blown overboard;  I was very scared till I managed to get him back onboard.'\n",
      " b'For a few days I felt very miserable, distressed and listless, with crying fits. When this was over I felt very happy, although there was no special reason.'\n",
      " b'It happened that my brother promised to give me money for school and then he told me that he had failed to fulfil his promise a day before school started. I became so angry for I thought my future would be ruined.'\n",
      " b'While watching TV (a war movie), I felt a strong fear of death, threat and fear of loosing people close to me.'\n",
      " b\"I was afraid before I went to the doctor's.\"\n",
      " b'As a kid my mother caught me stealing sugar and giving it to a neighbour.'\n",
      " b'Having a car accident.'\n",
      " b'When I passed the university entrance exam.  I had thus finished with a difficult period of my life and I was about to begin one which I had desired a lot.'\n",
      " b'An argument among several friends because of the irrational behavior of one of them who fell out with us for no reason and said that we were to blame.'\n",
      " b'My little brother was arrested by the police at the railway station after he had drunk some beer.'\n",
      " b'I was very sad when my first boyfriend finished our relationship.'\n",
      " b'When they gave away my dog to other people without my knowledge.'\n",
      " b'When my demand for accomodation on the campus was refused and the rooms were allotted to first year students who were from \"\"Rucher\"\" and came from influential families.'\n",
      " b'Having received an offer to do post-graduate work.']\n",
      "Label: [b'sadness' b'sadness' b'disgust' b'shame' b'disgust' b'shame' b'joy'\n",
      " b'disgust' b'fear' b'joy' b'fear' b'disgust' b'shame' b'fear' b'shame'\n",
      " b'disgust' b'joy' b'joy' b'fear' b'joy' b'anger' b'fear' b'fear' b'shame'\n",
      " b'fear' b'joy' b'anger' b'shame' b'sadness' b'sadness' b'disgust' b'joy']\n",
      "\n"
     ]
    },
    {
     "name": "stderr",
     "output_type": "stream",
     "text": [
      "2024-03-21 20:45:22.950565: W tensorflow/core/kernels/data/cache_dataset_ops.cc:858] The calling iterator did not fully read the dataset being cached. In order to avoid unexpected truncation of the dataset, the partially cached contents of the dataset  will be discarded. This can happen if you have an input pipeline similar to `dataset.cache().take(k).repeat()`. You should use `dataset.take(k).cache().repeat()` instead.\n",
      "2024-03-21 20:45:22.951357: W tensorflow/core/framework/local_rendezvous.cc:404] Local rendezvous is aborting with status: OUT_OF_RANGE: End of sequence\n"
     ]
    }
   ],
   "source": [
    "# Iterate over the first few elements of the training dataset\n",
    "for text, label in train_dataset.take(1):\n",
    "    print(\"Text:\", text.numpy())\n",
    "    print(\"Label:\", label.numpy())\n",
    "    print()\n"
   ]
  }
 ],
 "metadata": {
  "kernelspec": {
   "display_name": "Python 3",
   "language": "python",
   "name": "python3"
  },
  "language_info": {
   "codemirror_mode": {
    "name": "ipython",
    "version": 3
   },
   "file_extension": ".py",
   "mimetype": "text/x-python",
   "name": "python",
   "nbconvert_exporter": "python",
   "pygments_lexer": "ipython3",
   "version": "3.10.12"
  }
 },
 "nbformat": 4,
 "nbformat_minor": 2
}
