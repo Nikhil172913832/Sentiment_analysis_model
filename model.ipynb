{
 "cells": [
  {
   "cell_type": "markdown",
   "id": "76b3b199",
   "metadata": {},
   "source": [
    "Importing the necessary libraries"
   ]
  },
  {
   "cell_type": "code",
   "execution_count": null,
   "id": "initial_id",
   "metadata": {},
   "outputs": [],
   "source": [
    "import tensorflow as tf\n",
    "import os\n",
    "import re\n",
    "from collections import Counter\n",
    "from sklearn.model_selection import train_test_split\n",
    "from transformers import BertTokenizer, TFBertForSequenceClassification\n",
    "import numpy as np\n"
   ]
  },
  {
   "cell_type": "markdown",
   "id": "60a799fa",
   "metadata": {},
   "source": [
    "Defining the necessary functions for loading the data and preprocessing the data"
   ]
  },
  {
   "cell_type": "code",
   "execution_count": null,
   "id": "3a80b78f-c47f-474d-b1e8-849aba1e22a1",
   "metadata": {},
   "outputs": [],
   "source": [
    "def load_data(file):\n",
    "    data = []\n",
    "    with open(file, 'r') as f:\n",
    "        for line in f:\n",
    "                line = line.strip()\n",
    "                label = ' '.join(line[1:line.find(\"]\")].strip().split())\n",
    "                text = line[line.find(\"]\")+1:].strip()\n",
    "                data.append([label, text])\n",
    "    return data\n",
    "file = 'text.txt'\n",
    "data = load_data(file)\n",
    "print(\"Number of instances: {}\".format(len(data)))\n",
    "def tokenizer(token, n):\n",
    "    output = []\n",
    "    for i in range(len(token)-n+1):\n",
    "        tokens = ' '.join(token[i:i+n])\n",
    "        output.append(tokens)\n",
    "    return output\n",
    "def create_feature(text, nrange=(1, 1)):\n",
    "    text_features = []\n",
    "    text = text.lower()\n",
    "    text_alphanum = re.sub('[^a-z)-9#]', ' ', text)\n",
    "    for n in range(nrange[0], nrange[1]+1):\n",
    "        text_features += tokenizer(text_alphanum.split(), n)\n",
    "    text_punc = re.sub('[a-z0-9]', ' ', text)\n",
    "    text_features += tokenizer(text_punc.split(), 1)\n",
    "    return Counter(text_features)\n",
    "def convert_label(item, name): \n",
    "    items = list(map(float, item.split()))\n",
    "    label = \"\"\n",
    "    for idx in range(len(items)): \n",
    "        if items[idx] == 1: \n",
    "            label += name[idx] + \" \"\n",
    "    \n",
    "    return label.strip()\n",
    "emotions = [\"joy\", 'fear', \"anger\", \"sadness\", \"disgust\", \"shame\", \"guilt\"]"
   ]
  },
  {
   "cell_type": "markdown",
   "id": "48457c1e",
   "metadata": {},
   "source": [
    "Loading the data and creating the feature vector"
   ]
  },
  {
   "cell_type": "code",
   "execution_count": null,
   "id": "df7a35e6-6d37-46b4-a3ad-56ae19261586",
   "metadata": {},
   "outputs": [],
   "source": [
    "y_all = []\n",
    "X_all = []\n",
    "for label, text in data:\n",
    "    y_all.append(convert_label(label, emotions))\n",
    "    X_all.append(create_feature(text, nrange=(1, 4)))\n",
    "count = {}\n",
    "for i in emotions:\n",
    "    count[i] = 0\n",
    "for i in range(len(data)):\n",
    "    count[y_all[i]] += 1\n",
    "print(count)"
   ]
  },
  {
   "cell_type": "markdown",
   "id": "2dec163c",
   "metadata": {},
   "source": [
    "Splitting the data into training , validation and testing set"
   ]
  },
  {
   "cell_type": "code",
   "execution_count": null,
   "id": "35fcf8a1",
   "metadata": {},
   "outputs": [],
   "source": [
    "train_texts, test_texts, train_labels, test_labels = train_test_split(X_all, y_all, test_size=0.3, random_state=90)\n",
    "test_texts, val_texts, test_labels, val_labels = train_test_split(test_texts, test_labels, test_size=0.3, random_state=90)\n",
    "len_Tx = len(train_texts)\n",
    "len_Ty = len(train_labels)\n",
    "len_tx = len(test_texts)\n",
    "len_ty = len(test_labels)\n",
    "len_vx = len(val_texts)\n",
    "len_vy = len(val_labels)\n",
    "print({\n",
    "    \"X_train\": len_Tx,\n",
    "    \"y_train\": len_Ty,\n",
    "    \"X_test\": len_tx,\n",
    "    \"y_test\": len_ty,\n",
    "    \"X_val\": len_vx,\n",
    "    \"y_val\": len_vy\n",
    "})\n"
   ]
  },
  {
   "cell_type": "code",
   "execution_count": null,
   "id": "b84f3f75",
   "metadata": {},
   "outputs": [],
   "source": [
    "model = TFBertForSequenceClassification.from_pretrained('bert-base-uncased')\n",
    "tokenizer = BertTokenizer.from_pretrained('bert-base-uncased')\n",
    "\n",
    "batch_size = 32\n",
    "learning_rate = 1e-5\n",
    "num_epochs = 3\n",
    "\n",
    "\n",
    "train_dataset = tf.data.Dataset.from_tensor_slices(({'input_ids': train_texts}, train_labels))\n",
    "train_dataset = train_dataset.shuffle(buffer_size=len(train_texts)).batch(batch_size)\n",
    "\n",
    "val_dataset = tf.data.Dataset.from_tensor_slices(({'input_ids': val_texts}, val_labels))\n",
    "val_dataset = val_dataset.batch(batch_size)\n",
    "\n",
    "test_dataset = tf.data.Dataset.from_tensor_slices(({'input_ids': test_texts}, test_labels))\n",
    "test_dataset = test_dataset.batch(batch_size)\n",
    "\n",
    "optimizer = tf.keras.optimizers.Adam(learning_rate=learning_rate)\n",
    "loss = tf.keras.losses.SparseCategoricalCrossentropy(from_logits=True)\n",
    "\n",
    "model.compile(optimizer=optimizer, loss=loss, metrics=['accuracy'])\n",
    "\n",
    "model.fit(train_dataset, epochs=num_epochs, validation_data=val_dataset)\n",
    "\n",
    "results = model.evaluate(test_dataset)\n",
    "print(\"Test accuracy:\", results[1])\n"
   ]
  },
  {
   "cell_type": "markdown",
   "id": "f54a5a3b",
   "metadata": {},
   "source": [
    "this is for demonstration"
   ]
  }
 ],
 "metadata": {
  "kernelspec": {
   "display_name": "Python 3 (ipykernel)",
   "language": "python",
   "name": "python3"
  },
  "language_info": {
   "codemirror_mode": {
    "name": "ipython",
    "version": 3
   },
   "file_extension": ".py",
   "mimetype": "text/x-python",
   "name": "python",
   "nbconvert_exporter": "python",
   "pygments_lexer": "ipython3",
   "version": "3.11.7"
  }
 },
 "nbformat": 4,
 "nbformat_minor": 5
}
